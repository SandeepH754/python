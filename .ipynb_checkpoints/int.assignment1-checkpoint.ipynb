{
 "cells": [
  {
   "cell_type": "code",
   "execution_count": null,
   "metadata": {},
   "outputs": [],
   "source": [
    "Q. Declare an int value and store it in a variable. \n",
    "   Check the type and print the id of the same.\n"
   ]
  },
  {
   "cell_type": "code",
   "execution_count": 17,
   "metadata": {},
   "outputs": [
    {
     "name": "stdout",
     "output_type": "stream",
     "text": [
      "enter a value : 10\n",
      "140730191718464 <class 'int'>\n"
     ]
    }
   ],
   "source": [
    "intval=int(input('enter a value : '))\n",
    "print(id(intval), type(intval))"
   ]
  },
  {
   "cell_type": "code",
   "execution_count": null,
   "metadata": {},
   "outputs": [],
   "source": [
    "Q. \n",
    "Take one int value between 0 - 256. \n",
    "Assign it to two different variables. \n",
    "Check the id of both the variables. It should come the same. Check why?\n"
   ]
  },
  {
   "cell_type": "code",
   "execution_count": 6,
   "metadata": {},
   "outputs": [
    {
     "name": "stdout",
     "output_type": "stream",
     "text": [
      "enter a value15\n",
      "140730191718624\n",
      "140730191718624\n"
     ]
    }
   ],
   "source": [
    "intval1=int(input('enter a value'))\n",
    "intval2=intval1\n",
    "print(id(intval1))\n",
    "print(id(intval2))"
   ]
  },
  {
   "cell_type": "code",
   "execution_count": null,
   "metadata": {},
   "outputs": [],
   "source": [
    "Q.\n",
    "Take one int value either less than -5 or greater than 256. \n",
    "Assign it to two different variables. \n",
    "Check the id of both the variables. It should come different.Check why?\n"
   ]
  },
  {
   "cell_type": "code",
   "execution_count": 7,
   "metadata": {},
   "outputs": [
    {
     "name": "stdout",
     "output_type": "stream",
     "text": [
      "enter a value (<-5 or >256)500\n",
      "enter a value (<-5 or >256)500\n",
      "2296233826576\n",
      "2296233827152\n"
     ]
    }
   ],
   "source": [
    "a=int(input('enter a value (<-5 or >256)'))\n",
    "b=int(input('enter a value (<-5 or >256)'))\n",
    "print(id(a))\n",
    "print(id(b))"
   ]
  },
  {
   "cell_type": "code",
   "execution_count": null,
   "metadata": {},
   "outputs": [],
   "source": [
    "Q. \n",
    "Arithmetic Operations on integers \n",
    "Take two different integer values. \n",
    "Store them in two different variables. \n",
    "Do below operations on them:- \n",
    "Find sum of both numbers \n",
    "Find difference between them \n",
    "Find the product of both numbers. \n",
    "Find value after dividing first num with second number \n",
    "Find the remainder after dividing first number with second number \n",
    "Find the quotient after dividing first number with second number \n",
    "Find the result of the first num to the power of the second number.\n"
   ]
  },
  {
   "cell_type": "code",
   "execution_count": 9,
   "metadata": {},
   "outputs": [
    {
     "name": "stdout",
     "output_type": "stream",
     "text": [
      "22\n",
      "18\n",
      "40\n",
      "10.0\n",
      "0\n",
      "10\n",
      "400\n"
     ]
    }
   ],
   "source": [
    "a = 20\n",
    "b = 2\n",
    "print(a+b)\n",
    "print(a-b)\n",
    "print(a*b)\n",
    "print(a/b)\n",
    "print(a%b)\n",
    "print(a//b)\n",
    "print(a**b)"
   ]
  },
  {
   "cell_type": "code",
   "execution_count": null,
   "metadata": {},
   "outputs": [],
   "source": [
    "Q.\n",
    "Comparison Operators on integers \n",
    "Take two different integer values. \n",
    "Store them in two different variables. \n",
    "Do below operations on them:- \n",
    "Compare se two numbers with below operator:- \n",
    "Greater than, '>' \n",
    "Smaller than, '<' \n",
    "Greater than or equal to, '>=' \n",
    "Less than or equal to, '<=' \n",
    "Observe their output(return type should be boolean)\n"
   ]
  },
  {
   "cell_type": "code",
   "execution_count": 14,
   "metadata": {},
   "outputs": [
    {
     "name": "stdout",
     "output_type": "stream",
     "text": [
      "False\n",
      "True\n",
      "False\n",
      "True\n"
     ]
    }
   ],
   "source": [
    "a = 10\n",
    "b = 30\n",
    "print(a>b)\n",
    "print(a<b)\n",
    "print(a>=b)\n",
    "print(a<=b)"
   ]
  },
  {
   "cell_type": "code",
   "execution_count": null,
   "metadata": {},
   "outputs": [],
   "source": [
    "Q.\n",
    "Equality Operator \n",
    "Take two different integer values. \n",
    "Store them in two different variables. \n",
    "Equate them using equality operators (==, !=) \n",
    "Observe the output(return type should be boolean)\n"
   ]
  },
  {
   "cell_type": "code",
   "execution_count": 19,
   "metadata": {},
   "outputs": [
    {
     "name": "stdout",
     "output_type": "stream",
     "text": [
      "False\n",
      "True\n"
     ]
    }
   ],
   "source": [
    "intval1 = 15\n",
    "intval2 = 30\n",
    "print((intval1)==(intval2))\n",
    "print((intval1)!=(intval2))"
   ]
  },
  {
   "cell_type": "code",
   "execution_count": null,
   "metadata": {},
   "outputs": [],
   "source": [
    " Q.\n",
    "Logical operators \n",
    "Observe the output of below codeCross check the output manually \n",
    "Print(10 and 20) \n",
    "#----------------------------------------->Output is 20 \n",
    "print(0 and 20) \n",
    "#----------------------------------------->Output is 0 \n",
    "print(20 and 0) \n",
    "#----------------------------------------->Output is 0 \n",
    "print(0 and 0) \n",
    "#----------------------------------------->Output is 0 \n",
    "print(10 or 20) \n",
    "#----------------------------------------->Output is 10 \n",
    "print(0 or 20) \n",
    "#----------------------------------------->Output is 20 \n",
    "print(20 or 0) \n",
    "#----------------------------------------->Output is 20 \n",
    "print(0 or 0) \n",
    "#----------------------------------------->Output is 0 \n",
    "print(not 10) \n",
    "#----------------------------------------->Output is False \n",
    "print(not 0) \n",
    "#----------------------------------------->Output is True\n",
    " \n"
   ]
  },
  {
   "cell_type": "code",
   "execution_count": 22,
   "metadata": {},
   "outputs": [
    {
     "name": "stdout",
     "output_type": "stream",
     "text": [
      "20\n",
      "0\n",
      "0\n",
      "0\n",
      "10\n",
      "20\n",
      "20\n",
      "0\n",
      "False\n",
      "True\n"
     ]
    }
   ],
   "source": [
    "print(10 and 20)\n",
    "print(0 and 20)\n",
    "print(20 and 0)\n",
    "print(0 and 0)\n",
    "print(10 or 20)\n",
    "print(0 or 20)\n",
    "print(20 or 0)\n",
    "print(0 or 0)\n",
    "print(not 10)\n",
    "print(not 0)"
   ]
  },
  {
   "cell_type": "code",
   "execution_count": null,
   "metadata": {},
   "outputs": [],
   "source": [
    "Q.\n",
    "Bitwise Operators \n",
    "Do below operations on the values provided below:- \n",
    "Bitwise and(&) -----------------------------------------> 10, 20 \n",
    "-------> Output is 0 \n",
    "Bitwise or(|) -----------------------------------------> 10, 20 \n",
    "-------> Output is 30 \n",
    "Bitwise(^) -----------------------------------------> 10, 20 \n",
    "-------> Output is 30 \n",
    "Bitwise negation(~) ------------------------------------> 10 \n",
    "-------> Output is -11 \n",
    "Bitwise left shift ------------------------------------> 10,2 \n",
    "-------> Output is 40 \n",
    "Bitwise right shift ------------------------------------> 10,2 \n",
    "-------> Output is 2 \n",
    "Cross check the output manually \n"
   ]
  },
  {
   "cell_type": "code",
   "execution_count": 27,
   "metadata": {},
   "outputs": [
    {
     "name": "stdout",
     "output_type": "stream",
     "text": [
      "0\n",
      "30\n",
      "30\n",
      "-11\n",
      "40\n",
      "2\n"
     ]
    }
   ],
   "source": [
    "print(10&20)\n",
    "print(10|20)\n",
    "print(10^20)\n",
    "print(~10)\n",
    "print(10<<2)\n",
    "print(10>>2)"
   ]
  },
  {
   "cell_type": "code",
   "execution_count": null,
   "metadata": {},
   "outputs": [],
   "source": [
    "Q.\n",
    "What is the output of expression inside print statement. Cross check \n",
    "before running the program.a = 10 \n",
    "b = 10 \n",
    "print(a is b) #True or False? \n",
    "print(a is not b) #True or False? \n",
    "a = 1000 \n",
    "b = 1000 \n",
    "print(a is b) #True or False? \n",
    "print(a is not b) #True or False? \n",
    "\n"
   ]
  },
  {
   "cell_type": "code",
   "execution_count": 28,
   "metadata": {},
   "outputs": [
    {
     "name": "stdout",
     "output_type": "stream",
     "text": [
      "True\n",
      "False\n"
     ]
    }
   ],
   "source": [
    "a = 10\n",
    "b = 10\n",
    "print(a is b)\n",
    "print(a is not b)"
   ]
  },
  {
   "cell_type": "code",
   "execution_count": 29,
   "metadata": {},
   "outputs": [
    {
     "name": "stdout",
     "output_type": "stream",
     "text": [
      "False\n",
      "True\n"
     ]
    }
   ],
   "source": [
    "a = 1000\n",
    "b = 1000\n",
    "print(a is b)\n",
    "print(a is not b)"
   ]
  },
  {
   "cell_type": "code",
   "execution_count": null,
   "metadata": {},
   "outputs": [],
   "source": [
    "Q. What is the output of expression inside print statement. Cross check \n",
    "before running the program. \n",
    "print(10+(10*32)//2**5&20+(~(-10))<<2)\n"
   ]
  },
  {
   "cell_type": "code",
   "execution_count": 30,
   "metadata": {},
   "outputs": [
    {
     "name": "stdout",
     "output_type": "stream",
     "text": [
      "20\n"
     ]
    }
   ],
   "source": [
    "print(10+(10*32)//2**5&20+(~(-10))<<2)"
   ]
  },
  {
   "cell_type": "code",
   "execution_count": null,
   "metadata": {},
   "outputs": [],
   "source": [
    "Q. Membership operation \n",
    "in, not in are two membership operators and it returns boolean value \n",
    "print('2' in 'Python2.7.8') \n",
    "print(10 in [10,10.20,10+20j,'Python']) \n",
    "print(10 in (10,10.20,10+20j,'Python')) \n",
    "print(2in {1,2,3}) \n",
    "print(3in {1:100, 2:200, 3:300}) \n",
    "print(10in range(20)) \n"
   ]
  },
  {
   "cell_type": "code",
   "execution_count": 32,
   "metadata": {},
   "outputs": [
    {
     "name": "stdout",
     "output_type": "stream",
     "text": [
      "True\n",
      "True\n",
      "True\n",
      "True\n",
      "True\n",
      "True\n"
     ]
    }
   ],
   "source": [
    "print('2' in 'Python2.7.8') \n",
    "print(10 in [10,10.20,10+20j,'Python']) \n",
    "print(10 in (10,10.20,10+20j,'Python')) \n",
    "print(2 in {1,2,3}) \n",
    "print(3 in {1:100, 2:200, 3:300}) \n",
    "print(10 in range(20))"
   ]
  },
  {
   "cell_type": "code",
   "execution_count": null,
   "metadata": {},
   "outputs": [],
   "source": [
    "Q. An integer can be represented in binary, octal or hexadecimal form. \n",
    "Declare one binary, one octal and one hexadecimal value and store them \n",
    "in three different variables. \n",
    "Convert 9876 to its binary, octal and hexadecimal equivalent and print \n",
    "their corresponding value. \n"
   ]
  },
  {
   "cell_type": "code",
   "execution_count": 34,
   "metadata": {},
   "outputs": [
    {
     "name": "stdout",
     "output_type": "stream",
     "text": [
      "0b10011010010100\n",
      "0o23224\n",
      "0x2694\n"
     ]
    }
   ],
   "source": [
    "a = 9876\n",
    "print(bin(a))\n",
    "print(oct(a))\n",
    "print(hex(a))"
   ]
  },
  {
   "cell_type": "code",
   "execution_count": null,
   "metadata": {},
   "outputs": [],
   "source": [
    "Q. What will be the output of following:- \n",
    "a = 0b1010000 \n",
    "print(a) \n",
    "b = 0o7436 \n",
    "print(b) \n",
    "c = 0xfade \n",
    "print(c) \n",
    "print(bin(80))\n",
    "print(oct(3870)) \n",
    "print(hex(64222)) \n",
    "print(bin(0b1010000)) \n",
    "print(bin(0xfade)) \n",
    "print(oct(0xfade)) \n",
    "print(oct(0o7436)) \n",
    "print(hex(0b1010000)) \n",
    "print(hex(0xfade))\n"
   ]
  },
  {
   "cell_type": "code",
   "execution_count": 35,
   "metadata": {},
   "outputs": [
    {
     "name": "stdout",
     "output_type": "stream",
     "text": [
      "80\n",
      "3870\n",
      "64222\n"
     ]
    }
   ],
   "source": [
    "a = 0b1010000\n",
    "b = 0o7436\n",
    "c = 0xfade\n",
    "print(a)\n",
    "print(b)\n",
    "print(c)"
   ]
  },
  {
   "cell_type": "code",
   "execution_count": 36,
   "metadata": {},
   "outputs": [
    {
     "name": "stdout",
     "output_type": "stream",
     "text": [
      "0b1010000\n",
      "0o7436\n",
      "0xfade\n",
      "0b1010000\n",
      "0b1111101011011110\n",
      "0o175336\n",
      "0o7436\n",
      "0x50\n",
      "0xfade\n"
     ]
    }
   ],
   "source": [
    "print(bin(80))\n",
    "print(oct(3870)) \n",
    "print(hex(64222)) \n",
    "print(bin(0b1010000)) \n",
    "print(bin(0xfade)) \n",
    "print(oct(0xfade)) \n",
    "print(oct(0o7436)) \n",
    "print(hex(0b1010000)) \n",
    "print(hex(0xfade))"
   ]
  },
  {
   "cell_type": "code",
   "execution_count": null,
   "metadata": {},
   "outputs": [],
   "source": []
  },
  {
   "cell_type": "code",
   "execution_count": null,
   "metadata": {},
   "outputs": [],
   "source": []
  },
  {
   "cell_type": "code",
   "execution_count": null,
   "metadata": {},
   "outputs": [],
   "source": []
  },
  {
   "cell_type": "code",
   "execution_count": null,
   "metadata": {},
   "outputs": [],
   "source": []
  },
  {
   "cell_type": "code",
   "execution_count": null,
   "metadata": {},
   "outputs": [],
   "source": []
  },
  {
   "cell_type": "code",
   "execution_count": null,
   "metadata": {},
   "outputs": [],
   "source": []
  },
  {
   "cell_type": "code",
   "execution_count": null,
   "metadata": {},
   "outputs": [],
   "source": []
  },
  {
   "cell_type": "code",
   "execution_count": null,
   "metadata": {},
   "outputs": [],
   "source": []
  },
  {
   "cell_type": "code",
   "execution_count": null,
   "metadata": {},
   "outputs": [],
   "source": []
  },
  {
   "cell_type": "code",
   "execution_count": null,
   "metadata": {},
   "outputs": [],
   "source": []
  },
  {
   "cell_type": "code",
   "execution_count": null,
   "metadata": {},
   "outputs": [],
   "source": []
  },
  {
   "cell_type": "code",
   "execution_count": null,
   "metadata": {},
   "outputs": [],
   "source": []
  },
  {
   "cell_type": "code",
   "execution_count": null,
   "metadata": {},
   "outputs": [],
   "source": []
  },
  {
   "cell_type": "code",
   "execution_count": null,
   "metadata": {},
   "outputs": [],
   "source": []
  },
  {
   "cell_type": "code",
   "execution_count": null,
   "metadata": {},
   "outputs": [],
   "source": []
  }
 ],
 "metadata": {
  "kernelspec": {
   "display_name": "Python 3",
   "language": "python",
   "name": "python3"
  },
  "language_info": {
   "codemirror_mode": {
    "name": "ipython",
    "version": 3
   },
   "file_extension": ".py",
   "mimetype": "text/x-python",
   "name": "python",
   "nbconvert_exporter": "python",
   "pygments_lexer": "ipython3",
   "version": "3.8.5"
  }
 },
 "nbformat": 4,
 "nbformat_minor": 4
}
